{
  "nbformat": 4,
  "nbformat_minor": 0,
  "metadata": {
    "colab": {
      "provenance": [],
      "authorship_tag": "ABX9TyOVfUcGoOwdYKN/MZiBPTdt",
      "include_colab_link": true
    },
    "kernelspec": {
      "name": "python3",
      "display_name": "Python 3"
    },
    "language_info": {
      "name": "python"
    }
  },
  "cells": [
    {
      "cell_type": "markdown",
      "metadata": {
        "id": "view-in-github",
        "colab_type": "text"
      },
      "source": [
        "<a href=\"https://colab.research.google.com/github/harleiaki/Python_Walrus_Operator/blob/main/Walrus_Operator_Python.ipynb\" target=\"_parent\"><img src=\"https://colab.research.google.com/assets/colab-badge.svg\" alt=\"Open In Colab\"/></a>"
      ]
    },
    {
      "cell_type": "code",
      "execution_count": 3,
      "metadata": {
        "colab": {
          "base_uri": "https://localhost:8080/"
        },
        "id": "qhqIZf3jf9Sz",
        "outputId": "0f06cb82-45e1-433f-baf7-75bf9f642d66"
      },
      "outputs": [
        {
          "output_type": "stream",
          "name": "stdout",
          "text": [
            "Vendas do funcionário:2000\n",
            "Bonus: 100.0\n",
            "Vendas: 2000\n"
          ]
        }
      ],
      "source": [
        "#walrus operator\n",
        "if(vendas:=int(input(\"Vendas do funcionário:\"))) > 1000:\n",
        "    bonus = 0.05 * vendas\n",
        "else:\n",
        "    bonus = 0\n",
        "\n",
        "print(\"Bonus:\", bonus)\n",
        "print(\"Vendas:\", vendas)"
      ]
    },
    {
      "cell_type": "code",
      "source": [],
      "metadata": {
        "id": "Yu0D7rZvf90z"
      },
      "execution_count": 2,
      "outputs": []
    }
  ]
}